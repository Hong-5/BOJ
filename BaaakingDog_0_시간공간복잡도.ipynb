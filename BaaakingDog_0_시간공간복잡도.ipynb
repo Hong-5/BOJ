{
 "cells": [
  {
   "attachments": {},
   "cell_type": "markdown",
   "metadata": {},
   "source": [
    "# 시간복잡도"
   ]
  },
  {
   "cell_type": "code",
   "execution_count": null,
   "metadata": {},
   "outputs": [],
   "source": [
    "def func1(N):\n",
    "    answer = 0\n",
    "    for i in range(N+1):\n",
    "        if (i % 3 == 0) or (i % 5 == 0):\n",
    "            answer += i\n",
    "    return answer\n",
    "\n",
    "\n",
    "print(func1(16))\n",
    "print(func1(34567))\n",
    "print(func1(27639))"
   ]
  },
  {
   "attachments": {},
   "cell_type": "markdown",
   "metadata": {},
   "source": [
    "- O(n)"
   ]
  },
  {
   "cell_type": "code",
   "execution_count": null,
   "metadata": {},
   "outputs": [
    {
     "name": "stdout",
     "output_type": "stream",
     "text": [
      "1\n",
      "0\n",
      "1\n"
     ]
    }
   ],
   "source": [
    "def func2(x, n):\n",
    "    answer = 0\n",
    "    for first in range(len(x)):\n",
    "        for second in range(first+1, len(x)):\n",
    "            if x[first] + x[second] == 100:\n",
    "                answer += 1\n",
    "    \n",
    "    return answer\n",
    "\n",
    "print(func2([1,52,48], 3))\n",
    "print(func2([50,42], 2))\n",
    "print(func2([4, 13, 63, 87], 4))"
   ]
  },
  {
   "attachments": {},
   "cell_type": "markdown",
   "metadata": {},
   "source": [
    "- O(N**2)"
   ]
  },
  {
   "cell_type": "code",
   "execution_count": null,
   "metadata": {},
   "outputs": [
    {
     "name": "stdout",
     "output_type": "stream",
     "text": [
      "1\n",
      "0\n",
      "1\n"
     ]
    }
   ],
   "source": [
    "def func3(num):\n",
    "    target_num = num ** (1/2)\n",
    "    if target_num.is_integer():\n",
    "        return 1\n",
    "    else:\n",
    "        return 0\n",
    "\n",
    "\n",
    "# -> 무턱대고 메소드 쓰는 습관을 버리자!\n",
    "\n",
    "def func3_1(num):\n",
    "    for i in range(int(num**0.5)+1):\n",
    "        if i*i == num:\n",
    "            return 1\n",
    "    return 0\n",
    "\n",
    "print(func3_1(9))\n",
    "print(func3_1(1235151))\n",
    "print(func3_1(16))\n",
    "\n"
   ]
  },
  {
   "cell_type": "code",
   "execution_count": null,
   "metadata": {},
   "outputs": [
    {
     "name": "stdout",
     "output_type": "stream",
     "text": [
      "4\n",
      "67108864\n",
      "1024\n"
     ]
    }
   ],
   "source": [
    "def func4(num):\n",
    "    biggest = 2\n",
    "    for i in range(num+1):\n",
    "        target_num = i\n",
    "        while target_num != 1:\n",
    "            if target_num % 2 == 1:\n",
    "                break\n",
    "            else:\n",
    "                target_num = target_num // 2\n",
    "        if target_num == 2:\n",
    "            biggest = target_num\n",
    "    \n",
    "    return biggest\n",
    "\n",
    "# -> 너무 멍청하게 풀었다..\n",
    "\n",
    "def func4(num):\n",
    "    biggest = 2\n",
    "    while biggest * 2 <= num:\n",
    "        biggest *= 2\n",
    "    return biggest\n",
    "\n",
    "print(func4(5))\n",
    "print(func4(124091247))\n",
    "print(func4(1024))\n",
    "            \n"
   ]
  },
  {
   "cell_type": "markdown",
   "metadata": {},
   "source": [
    "- 파이썬은 integer  Overflow가 발생하지 않는데 이는 파이썬의 정수는 C로 구현된 구조체로 배열형태를 가지고 있기 때문 : flexible array기술!"
   ]
  }
 ],
 "metadata": {
  "kernelspec": {
   "display_name": "base",
   "language": "python",
   "name": "python3"
  },
  "language_info": {
   "name": "python",
   "version": "3.7.9 (default, Aug 31 2020, 07:22:35) \n[Clang 10.0.0 ]"
  },
  "orig_nbformat": 4,
  "vscode": {
   "interpreter": {
    "hash": "af40cdd1006690f4cf995187c855cf85ebfd55e0c8699f83ae7c9965d6b310a1"
   }
  }
 },
 "nbformat": 4,
 "nbformat_minor": 2
}
