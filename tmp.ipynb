{
 "cells": [
  {
   "cell_type": "code",
   "execution_count": null,
   "metadata": {},
   "outputs": [],
   "source": [
    "\n",
    "\n",
    "\n",
    "[10 3 7 4 12 2] []\n",
    "\n",
    "[10 3 7 4 12] [2] +1\n",
    "\n",
    "[10 3 7 4] [12 2]\n",
    "\n",
    "[10 3 7] [4 12 2] +1\n",
    "\n",
    "[10 3] [7 4 12 2]\n",
    "\n",
    "\n",
    "\n",
    "[0 -7 +4 -3 +8 -10]\n",
    "\n",
    "+1 +1 +1 \n",
    "\n"
   ]
  },
  {
   "cell_type": "code",
   "execution_count": 4,
   "metadata": {},
   "outputs": [
    {
     "data": {
      "text/plain": [
       "deque([10, 3, 7, 4, 12, 2])"
      ]
     },
     "execution_count": 4,
     "metadata": {},
     "output_type": "execute_result"
    }
   ],
   "source": [
    "building_list\n"
   ]
  },
  {
   "cell_type": "code",
   "execution_count": 29,
   "metadata": {},
   "outputs": [
    {
     "name": "stdout",
     "output_type": "stream",
     "text": [
      "0 0 0 3 3 5 5 7 7\n"
     ]
    }
   ],
   "source": [
    "cnt =  int(input())\n",
    "a = list(input().split())\n",
    "empty_list = []\n",
    "\n",
    "many = 1\n",
    "while len(a) != 0:\n",
    "    try:\n",
    "        target = a.pop()\n",
    "        if a[-1] >= target:\n",
    "            cnt -= 1\n",
    "            for i in range(many):\n",
    "                empty_list.append(cnt)\n",
    "            many = 1\n",
    "        else:\n",
    "            many += 1\n",
    "            cnt -= 1\n",
    "    except:\n",
    "        cnt -= 1\n",
    "\n",
    "for i in range(many):\n",
    "    empty_list.append(cnt)\n",
    "\n",
    "print(' '.join(list(map(str,empty_list[::-1]))))"
   ]
  },
  {
   "cell_type": "code",
   "execution_count": null,
   "metadata": {},
   "outputs": [],
   "source": [
    "10 6 7 4 5 2 3 1 9"
   ]
  }
 ],
 "metadata": {
  "kernelspec": {
   "display_name": "base",
   "language": "python",
   "name": "python3"
  },
  "language_info": {
   "codemirror_mode": {
    "name": "ipython",
    "version": 3
   },
   "file_extension": ".py",
   "mimetype": "text/x-python",
   "name": "python",
   "nbconvert_exporter": "python",
   "pygments_lexer": "ipython3",
   "version": "3.7.9"
  },
  "orig_nbformat": 4,
  "vscode": {
   "interpreter": {
    "hash": "af40cdd1006690f4cf995187c855cf85ebfd55e0c8699f83ae7c9965d6b310a1"
   }
  }
 },
 "nbformat": 4,
 "nbformat_minor": 2
}
