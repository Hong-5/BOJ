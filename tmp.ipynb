{
 "cells": [
  {
   "cell_type": "code",
   "execution_count": null,
   "metadata": {},
   "outputs": [],
   "source": [
    "stack = [1]\n",
    "num_list = []\n",
    "\n",
    "count = int(input())\n",
    "\n",
    "for i in range(count):\n",
    "    num_list.append(int(input()))\n",
    "\n",
    "base_num = 2\n",
    "\n",
    "for i in num_list:\n",
    "    while stack[-1] != i:\n",
    "        stack.append(base_num)\n",
    "        base_num += 1\n",
    "    "
   ]
  },
  {
   "cell_type": "code",
   "execution_count": 2,
   "metadata": {},
   "outputs": [
    {
     "data": {
      "text/plain": [
       "[4, 3, 6, 8, 7, 5, 2, 1]"
      ]
     },
     "execution_count": 2,
     "metadata": {},
     "output_type": "execute_result"
    }
   ],
   "source": [
    "N = int(input())\n",
    "\n",
    "suyeol = []\n",
    "\n",
    "for i in range(N):\n",
    "    num = int(input())\n",
    "    suyeol.append(num)\n",
    "    \n",
    "suyeol"
   ]
  },
  {
   "cell_type": "code",
   "execution_count": 8,
   "metadata": {},
   "outputs": [
    {
     "name": "stdout",
     "output_type": "stream",
     "text": [
      "NO\n"
     ]
    }
   ],
   "source": [
    "N = int(input())\n",
    "\n",
    "suyeol = []\n",
    "answer = []\n",
    "\n",
    "cnt = 1\n",
    "for i in range(N):\n",
    "    num = int(input())\n",
    "    while cnt <= num:\n",
    "        suyeol.append(cnt)\n",
    "        answer.append('+')\n",
    "        cnt += 1\n",
    "\n",
    "    if suyeol.pop() == num:\n",
    "        answer.append('-')\n",
    "    else:\n",
    "        answer = ['NO']\n",
    "        break\n",
    "\n",
    "for i in answer:\n",
    "    print(i)\n",
    "\n"
   ]
  }
 ],
 "metadata": {
  "kernelspec": {
   "display_name": "base",
   "language": "python",
   "name": "python3"
  },
  "language_info": {
   "codemirror_mode": {
    "name": "ipython",
    "version": 3
   },
   "file_extension": ".py",
   "mimetype": "text/x-python",
   "name": "python",
   "nbconvert_exporter": "python",
   "pygments_lexer": "ipython3",
   "version": "3.7.9"
  },
  "orig_nbformat": 4,
  "vscode": {
   "interpreter": {
    "hash": "af40cdd1006690f4cf995187c855cf85ebfd55e0c8699f83ae7c9965d6b310a1"
   }
  }
 },
 "nbformat": 4,
 "nbformat_minor": 2
}
