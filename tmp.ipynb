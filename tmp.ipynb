{
 "cells": [
  {
   "cell_type": "code",
   "execution_count": 51,
   "metadata": {},
   "outputs": [
    {
     "name": "stdout",
     "output_type": "stream",
     "text": [
      "[1, 2, 3, 4, 10, 9, 8, 7, 13, 12, 11, 5, 6, 14, 15, 16, 17, 18, 19, 20]\n"
     ]
    }
   ],
   "source": [
    "order_list = []\n",
    "for i in range(10):\n",
    "    a, b = map(int, input().split())\n",
    "    order_list.append([a,b])\n",
    "    \n",
    "base_list = [i for i in range(1,21)]\n",
    "\n",
    "for a in order_list:\n",
    "    base_list = base_list[:a[0]-1] + base_list[a[0]-1:a[1]][::-1] + base_list[a[1]:]\n",
    "    \n",
    "print(base_list)"
   ]
  },
  {
   "cell_type": "code",
   "execution_count": 53,
   "metadata": {},
   "outputs": [
    {
     "name": "stdout",
     "output_type": "stream",
     "text": [
      "1 2 3 4 10 9 8 7 13 12 11 5 6 14 15 16 17 18 19 20\n"
     ]
    }
   ],
   "source": [
    "print(' '.join(list(map(str, base_list))))"
   ]
  },
  {
   "cell_type": "code",
   "execution_count": 60,
   "metadata": {},
   "outputs": [
    {
     "name": "stdout",
     "output_type": "stream",
     "text": [
      "*****\n",
      " ****\n",
      "  ***\n",
      "   **\n",
      "    *\n"
     ]
    }
   ],
   "source": [
    "N = int(input())\n",
    "\n",
    "for i in range(N):\n",
    "    print((\" \")*i +\"*\"*(N-i))"
   ]
  },
  {
   "cell_type": "code",
   "execution_count": 56,
   "metadata": {},
   "outputs": [
    {
     "name": "stdout",
     "output_type": "stream",
     "text": [
      "******\n",
      "*****\n",
      " ****\n",
      "  ***\n",
      "   **\n"
     ]
    }
   ],
   "source": [
    "N = int(input())\n",
    "\n",
    "for i in range(N,0,-1):\n",
    "    print(' '*(N-i-1)+'*'*(i+1))"
   ]
  },
  {
   "cell_type": "code",
   "execution_count": null,
   "metadata": {},
   "outputs": [],
   "source": [
    "import sys\n",
    "\n",
    "N = int(input())\n",
    "num_list = list(map(int, sys.stdin.readline().split()))\n",
    "find_num = int(input())\n",
    "print(num_list.count(find_num))\n"
   ]
  },
  {
   "cell_type": "code",
   "execution_count": 72,
   "metadata": {},
   "outputs": [],
   "source": [
    "from collections import defaultdict\n",
    "\n",
    "N, K = map(int, input().split())\n",
    "\n",
    "room_dict = defaultdict(int)\n",
    "\n",
    "for i in range(N):\n",
    "    sex, grade = input().split()\n",
    "    room_dict[sex+grade] += 1\n"
   ]
  }
 ],
 "metadata": {
  "kernelspec": {
   "display_name": "base",
   "language": "python",
   "name": "python3"
  },
  "language_info": {
   "codemirror_mode": {
    "name": "ipython",
    "version": 3
   },
   "file_extension": ".py",
   "mimetype": "text/x-python",
   "name": "python",
   "nbconvert_exporter": "python",
   "pygments_lexer": "ipython3",
   "version": "3.7.9"
  },
  "orig_nbformat": 4,
  "vscode": {
   "interpreter": {
    "hash": "af40cdd1006690f4cf995187c855cf85ebfd55e0c8699f83ae7c9965d6b310a1"
   }
  }
 },
 "nbformat": 4,
 "nbformat_minor": 2
}
