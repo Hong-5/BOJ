{
 "cells": [
  {
   "cell_type": "code",
   "execution_count": 27,
   "metadata": {},
   "outputs": [
    {
     "name": "stdout",
     "output_type": "stream",
     "text": [
      "aek\n"
     ]
    }
   ],
   "source": [
    "from collections import deque\n",
    "\n",
    "password_count = int(input())\n",
    "\n",
    "for i in range(password_count):\n",
    "    password = input()\n",
    "    \n",
    "    left_cursor = deque()\n",
    "    right_cursor = deque()\n",
    "    \n",
    "    for tmp in password:\n",
    "        try:\n",
    "            if tmp == '<':\n",
    "                right_cursor.appendleft(left_cursor.pop())\n",
    "            elif tmp == '>':\n",
    "                left_cursor.append(right_cursor.popleft())\n",
    "            elif tmp == '-':\n",
    "                left_cursor.pop()\n",
    "            else:\n",
    "                left_cursor.append(tmp)\n",
    "        except:\n",
    "            pass\n",
    "    \n",
    "    print(''.join(list(list(left_cursor) + list(right_cursor))))\n"
   ]
  },
  {
   "cell_type": "code",
   "execution_count": null,
   "metadata": {},
   "outputs": [],
   "source": [
    "[BP]\n",
    "[]\n",
    "\n",
    "[B]\n",
    "[P]\n",
    "\n",
    "[BA]\n",
    "[P]\n",
    "\n",
    "[BAP]\n",
    "[]\n",
    "\n",
    "[BAPC]\n",
    "[]\n",
    "\n",
    "[BA]"
   ]
  },
  {
   "cell_type": "code",
   "execution_count": 18,
   "metadata": {},
   "outputs": [
    {
     "data": {
      "text/plain": [
       "'<<BP<A>>Cd-'"
      ]
     },
     "execution_count": 18,
     "metadata": {},
     "output_type": "execute_result"
    }
   ],
   "source": [
    "\n",
    "password = input()\n"
   ]
  },
  {
   "cell_type": "code",
   "execution_count": null,
   "metadata": {},
   "outputs": [],
   "source": []
  }
 ],
 "metadata": {
  "kernelspec": {
   "display_name": "base",
   "language": "python",
   "name": "python3"
  },
  "language_info": {
   "codemirror_mode": {
    "name": "ipython",
    "version": 3
   },
   "file_extension": ".py",
   "mimetype": "text/x-python",
   "name": "python",
   "nbconvert_exporter": "python",
   "pygments_lexer": "ipython3",
   "version": "3.7.9"
  },
  "orig_nbformat": 4,
  "vscode": {
   "interpreter": {
    "hash": "af40cdd1006690f4cf995187c855cf85ebfd55e0c8699f83ae7c9965d6b310a1"
   }
  }
 },
 "nbformat": 4,
 "nbformat_minor": 2
}
