{
 "cells": [
  {
   "cell_type": "code",
   "execution_count": null,
   "metadata": {},
   "outputs": [],
   "source": [
    "[6]\n",
    "[]\n",
    "\n",
    "\n"
   ]
  },
  {
   "cell_type": "code",
   "execution_count": 69,
   "metadata": {},
   "outputs": [
    {
     "name": "stdout",
     "output_type": "stream",
     "text": [
      "********** 6 **********\n",
      "[6]\n",
      "[0]\n",
      "********** 9 **********\n",
      "[9]\n",
      "[0, 0]\n",
      "********** 5 **********\n",
      "[9, 5]\n",
      "[0, 0, 2]\n",
      "********** 7 **********\n",
      "[9, 7]\n",
      "[0, 0, 2, 2]\n",
      "********** 4 **********\n",
      "[9, 7, 4]\n",
      "[0, 0, 2, 2, 2]\n"
     ]
    },
    {
     "data": {
      "text/plain": [
       "[0, 0, 2, 2, 2]"
      ]
     },
     "execution_count": 69,
     "metadata": {},
     "output_type": "execute_result"
    }
   ],
   "source": [
    "N = int(input())\n",
    "tmp = input().split()\n",
    "\n",
    "stack = []\n",
    "loc_list = []\n",
    "loc = 0\n",
    "\n",
    "for i in tmp:\n",
    "    print('*'*10, i, '*'*10)\n",
    "    target = int(i)\n",
    "    if len(stack) == 0:\n",
    "        stack.append(target)\n",
    "        loc_list.append(0)\n",
    "        loc += len(loc_list)\n",
    "    else:\n",
    "        while True:\n",
    "            if len(stack) == 0:\n",
    "                stack.append(target)\n",
    "                loc_list.append(0)\n",
    "                loc += 1\n",
    "                break\n",
    "            else:\n",
    "                if stack[-1] < target:\n",
    "                    stack.pop()\n",
    "                else:\n",
    "                    stack.append(target)\n",
    "                    loc_list.append(loc)\n",
    "                    break\n",
    "\n",
    "    print(stack)\n",
    "    print(loc_list)\n",
    "\n",
    "loc_list"
   ]
  },
  {
   "cell_type": "code",
   "execution_count": 78,
   "metadata": {},
   "outputs": [
    {
     "data": {
      "text/plain": [
       "1"
      ]
     },
     "execution_count": 78,
     "metadata": {},
     "output_type": "execute_result"
    }
   ],
   "source": [
    "abs(-1)"
   ]
  },
  {
   "cell_type": "code",
   "execution_count": 28,
   "metadata": {},
   "outputs": [
    {
     "name": "stdout",
     "output_type": "stream",
     "text": [
      "원래 찾아야될 수 :  27\n",
      "여기 있는거 찾아야됨! :  27\n",
      "deque([1, 2, 3, 4, 5, 6, 7, 8, 9, 10, 11, 12, 13, 14, 15, 16, 17, 18, 19, 20, 21, 22, 23, 24, 25, 26, 27, 28, 29, 30, 31, 32])\n",
      "count_2 :  0\n",
      "count_3 :  6\n",
      "cnt :  1\n",
      "--------------------\n",
      "원래 찾아야될 수 :  16\n",
      "여기 있는거 찾아야됨! :  21\n",
      "deque([28, 29, 30, 31, 32, 1, 2, 3, 4, 5, 6, 7, 8, 9, 10, 11, 12, 13, 14, 15, 16, 17, 18, 19, 20, 21, 22, 23, 24, 25, 26])\n",
      "count_2 :  0\n",
      "count_3 :  17\n",
      "cnt :  2\n",
      "--------------------\n",
      "원래 찾아야될 수 :  30\n",
      "여기 있는거 찾아야됨! :  45\n",
      "deque([17, 18, 19, 20, 21, 22, 23, 24, 25, 26, 28, 29, 30, 31, 32, 1, 2, 3, 4, 5, 6, 7, 8, 9, 10, 11, 12, 13, 14, 15])\n",
      "count_2 :  0\n",
      "count_3 :  35\n",
      "cnt :  3\n",
      "--------------------\n",
      "원래 찾아야될 수 :  11\n",
      "여기 있는거 찾아야됨! :  43\n",
      "deque([31, 32, 1, 2, 3, 4, 5, 6, 7, 8, 9, 10, 11, 12, 13, 14, 15, 17, 18, 19, 20, 21, 22, 23, 24, 25, 26, 28, 29])\n",
      "count_2 :  0\n",
      "count_3 :  52\n",
      "cnt :  4\n",
      "--------------------\n",
      "원래 찾아야될 수 :  6\n",
      "여기 있는거 찾아야됨! :  54\n",
      "deque([12, 13, 14, 15, 17, 18, 19, 20, 21, 22, 23, 24, 25, 26, 28, 29, 31, 32, 1, 2, 3, 4, 5, 6, 7, 8, 9, 10])\n",
      "count_2 :  0\n",
      "count_3 :  57\n",
      "cnt :  5\n",
      "--------------------\n",
      "원래 찾아야될 수 :  23\n",
      "여기 있는거 찾아야됨! :  75\n",
      "deque([7, 8, 9, 10, 12, 13, 14, 15, 17, 18, 19, 20, 21, 22, 23, 24, 25, 26, 28, 29, 31, 32, 1, 2, 3, 4, 5])\n",
      "count_2 :  0\n",
      "count_3 :  70\n",
      "cnt :  6\n",
      "--------------------\n"
     ]
    }
   ],
   "source": [
    "from collections import deque\n",
    "\n",
    "N, M = map(int, input().split())\n",
    "\n",
    "target_list = list(map(int, input().split()))\n",
    "\n",
    "base_list = deque([i for i in range(1,N+1)])\n",
    "\n",
    "count_2 = 0\n",
    "count_3 = 0\n",
    "\n",
    "total_len = N\n",
    "\n",
    "cnt = 0\n",
    "\n",
    "\n",
    "for i in target_list:\n",
    "    target_loc = i\n",
    "    target_loc = target_loc - count_2 + count_3 - cnt\n",
    "    \n",
    "    while target_loc <= 0:\n",
    "        target_loc += total_len + 2\n",
    "    \n",
    "    print('원래 찾아야될 수 : ', i)\n",
    "    print('여기 있는거 찾아야됨! : ', target_loc)\n",
    "    print(base_list)\n",
    "\n",
    "    while i != base_list[0]:\n",
    "        if  target_loc-1 < (total_len - target_loc + 1):\n",
    "            count_2 += 1\n",
    "            base_list.append(base_list.popleft())\n",
    "        else:\n",
    "            count_3 += 1\n",
    "            base_list.appendleft(base_list.pop())\n",
    "    \n",
    "\n",
    "    base_list.popleft()\n",
    "    total_len -= 1\n",
    "    cnt += 1\n",
    "\n",
    "    print('count_2 : ', count_2)\n",
    "    print('count_3 : ', count_3)\n",
    "    print('cnt : ', cnt)\n",
    "\n",
    "    print('-'*20)\n",
    "\n",
    "# 1 6 3 2 7 9 8 4 10 5\n",
    "\n"
   ]
  },
  {
   "cell_type": "code",
   "execution_count": 27,
   "metadata": {},
   "outputs": [
    {
     "data": {
      "text/plain": [
       "15"
      ]
     },
     "execution_count": 27,
     "metadata": {},
     "output_type": "execute_result"
    }
   ],
   "source": [
    "count_2 + count_3"
   ]
  },
  {
   "cell_type": "code",
   "execution_count": 52,
   "metadata": {},
   "outputs": [
    {
     "name": "stdout",
     "output_type": "stream",
     "text": [
      "원래 찾아야될 수 :  1\n",
      "여기 있는거 찾아야됨! :  1\n",
      "deque([1, 2, 3, 4, 5, 6, 7, 8, 9, 10])\n",
      "--------------------\n",
      "원래 찾아야될 수 :  6\n",
      "여기 있는거 찾아야됨! :  5\n",
      "deque([2, 3, 4, 5, 6, 7, 8, 9, 10])\n",
      "--------------------\n",
      "원래 찾아야될 수 :  3\n",
      "여기 있는거 찾아야됨! :  6\n",
      "deque([7, 8, 9, 10, 2, 3, 4, 5])\n",
      "--------------------\n",
      "원래 찾아야될 수 :  2\n",
      "여기 있는거 찾아야됨! :  6\n",
      "deque([4, 5, 7, 8, 9, 10, 2])\n",
      "--------------------\n",
      "원래 찾아야될 수 :  7\n",
      "여기 있는거 찾아야됨! :  3\n",
      "deque([4, 5, 7, 8, 9, 10])\n",
      "--------------------\n",
      "원래 찾아야될 수 :  9\n",
      "여기 있는거 찾아야됨! :  2\n",
      "deque([8, 9, 10, 4, 5])\n",
      "--------------------\n",
      "원래 찾아야될 수 :  8\n",
      "여기 있는거 찾아야됨! :  4\n",
      "deque([10, 4, 5, 8])\n",
      "--------------------\n",
      "원래 찾아야될 수 :  4\n",
      "여기 있는거 찾아야됨! :  -1\n",
      "deque([10, 4, 5])\n",
      "--------------------\n",
      "원래 찾아야될 수 :  10\n",
      "여기 있는거 찾아야됨! :  2\n",
      "deque([5, 10])\n",
      "--------------------\n",
      "원래 찾아야될 수 :  5\n",
      "여기 있는거 찾아야됨! :  -4\n",
      "deque([5])\n",
      "--------------------\n"
     ]
    }
   ],
   "source": [
    "from collections import deque\n",
    "\n",
    "N, M = map(int, input().split())\n",
    "\n",
    "target_list = list(map(int, input().split()))\n",
    "\n",
    "base_list = deque([i for i in range(1,N+1)])\n",
    "\n",
    "count_plus_minus = 0\n",
    "answer = 0\n",
    "\n",
    "total_len = N\n",
    "\n",
    "cnt = 0\n",
    "\n",
    "for i in target_list:\n",
    "    target_loc = i\n",
    "    target_loc = target_loc + count_plus_minus - cnt\n",
    "    \n",
    "    if target_loc < 0:\n",
    "        target_loc += total_len + 1\n",
    "    \n",
    "    print('원래 찾아야될 수 : ', i)\n",
    "    print('여기 있는거 찾아야됨! : ', target_loc)\n",
    "    print(base_list)\n",
    "\n",
    "    while i != base_list[0]:\n",
    "        if  target_loc-1 < (total_len - target_loc + 1):\n",
    "            count_plus_minus -= 1\n",
    "            answer += 1\n",
    "            base_list.append(base_list.popleft())\n",
    "        else:\n",
    "            count_plus_minus += 1\n",
    "            answer += 1\n",
    "            base_list.appendleft(base_list.pop())\n",
    "    \n",
    "\n",
    "    base_list.popleft()\n",
    "    total_len -= 1\n",
    "    cnt += 1\n",
    "\n",
    "    print('-'*20)\n",
    "\n",
    "# 1 6 3 2 7 9 8 4 10 5\n",
    "\n"
   ]
  },
  {
   "cell_type": "code",
   "execution_count": 51,
   "metadata": {},
   "outputs": [
    {
     "data": {
      "text/plain": [
       "70"
      ]
     },
     "execution_count": 51,
     "metadata": {},
     "output_type": "execute_result"
    }
   ],
   "source": [
    "answer"
   ]
  },
  {
   "cell_type": "code",
   "execution_count": null,
   "metadata": {},
   "outputs": [],
   "source": []
  }
 ],
 "metadata": {
  "kernelspec": {
   "display_name": "base",
   "language": "python",
   "name": "python3"
  },
  "language_info": {
   "codemirror_mode": {
    "name": "ipython",
    "version": 3
   },
   "file_extension": ".py",
   "mimetype": "text/x-python",
   "name": "python",
   "nbconvert_exporter": "python",
   "pygments_lexer": "ipython3",
   "version": "3.7.9"
  },
  "orig_nbformat": 4,
  "vscode": {
   "interpreter": {
    "hash": "af40cdd1006690f4cf995187c855cf85ebfd55e0c8699f83ae7c9965d6b310a1"
   }
  }
 },
 "nbformat": 4,
 "nbformat_minor": 2
}
