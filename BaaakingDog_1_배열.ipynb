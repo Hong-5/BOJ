{
 "cells": [
  {
   "attachments": {},
   "cell_type": "markdown",
   "metadata": {},
   "source": [
    "- 배열 삽입, 삭제 기능 구현"
   ]
  },
  {
   "cell_type": "code",
   "execution_count": 4,
   "metadata": {},
   "outputs": [
    {
     "name": "stdout",
     "output_type": "stream",
     "text": [
      "[10, 50, 100, 40, 30, 70, 20]\n",
      "[10, 50, 30, 70, 20]\n"
     ]
    }
   ],
   "source": [
    "# 새로 메모리를 할당했는데 그닥 안좋은 방법인듯\n",
    "\n",
    "def insert(idx, num, arr):\n",
    "    tmp_list = []\n",
    "    for index, value in enumerate(arr):\n",
    "        if index != idx:\n",
    "            tmp_list.append(value)\n",
    "        else:\n",
    "            tmp_list.append(num)\n",
    "            tmp_list.append(value)\n",
    "    return tmp_list\n",
    "\n",
    "\n",
    "def erase(idx, arr):\n",
    "    tmp_list = []\n",
    "    for index, value in enumerate(arr):\n",
    "        if index != idx:\n",
    "            tmp_list.append(value)\n",
    "    return tmp_list\n",
    "\n",
    "\n",
    "base_array = [10,50,40,30,70,20]\n",
    "\n",
    "print(insert(2, 100, base_array))\n",
    "print(erase(2, base_array))"
   ]
  }
 ],
 "metadata": {
  "kernelspec": {
   "display_name": "base",
   "language": "python",
   "name": "python3"
  },
  "language_info": {
   "codemirror_mode": {
    "name": "ipython",
    "version": 3
   },
   "file_extension": ".py",
   "mimetype": "text/x-python",
   "name": "python",
   "nbconvert_exporter": "python",
   "pygments_lexer": "ipython3",
   "version": "3.7.9"
  },
  "orig_nbformat": 4,
  "vscode": {
   "interpreter": {
    "hash": "af40cdd1006690f4cf995187c855cf85ebfd55e0c8699f83ae7c9965d6b310a1"
   }
  }
 },
 "nbformat": 4,
 "nbformat_minor": 2
}
